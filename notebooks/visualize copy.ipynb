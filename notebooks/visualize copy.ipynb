{
 "cells": [
  {
   "cell_type": "code",
   "execution_count": 1,
   "metadata": {},
   "outputs": [],
   "source": [
    "import numpy as np\n",
    "import seaborn as sns\n",
    "import matplotlib.pyplot as plt\n",
    "\n",
    "import keyword\n",
    "import torch\n",
    "from torch.utils.tensorboard import SummaryWriter\n",
    "from framework.policies.ppo_no_scaling_rec_global_critic import NNN\n",
    "import os"
   ]
  },
  {
   "cell_type": "code",
   "execution_count": 30,
   "metadata": {},
   "outputs": [],
   "source": [
    "from framework.policies.ppo_shared_use_future import NNN\n",
    "path = os.path.abspath(\"experiments\")+\"/ppo_shared_use_future-full_communication_2-big_net_bigger_bottleneck/saved_models/agent_0\"\n",
    "\n",
    "model = NNN(32, 2, 50, 128)\n",
    "model.load_state_dict(torch.load(path), strict=False)\n",
    "\n",
    "model.cuda()\n",
    "\n",
    "# def get_repr(model, c, goal_color):\n",
    "#     x = torch.zeros(32)\n",
    "#     comm = torch.zeros(10)\n",
    "#     comm[c] = 1\n",
    "#     x[-10:] = comm\n",
    "    \n",
    "#     for i in range(4):\n",
    "#         x[4+i*3] = (i+0.1)/5\n",
    "#         x[5+i*3] = (i+0.1)/5\n",
    "#         x[6+i*3] = colors[i]\n",
    "    \n",
    "#     x[2] = goal_color\n",
    "#     x[3] = goal_color\n",
    "#     x = x[None,None,:].cuda()\n",
    "#     model.init_hidden(1)\n",
    "#     return model.get_hidden(x).cpu().detach()[0][0]\n",
    "def get_repr_x(model, x):\n",
    "    x = x[None,None,:].cuda()\n",
    "    model.init_hidden(1)\n",
    "    return model.get_hidden(x).cpu().detach()[0][0]\n",
    "\n",
    "def get_repr_C(model, c):\n",
    "    x = torch.zeros(32)-1\n",
    "    comm = torch.zeros(10)\n",
    "    comm[c] = 1\n",
    "    x[-10:] = comm\n",
    "    \n",
    "    x = x[None,None,:].cuda()\n",
    "    model.init_hidden(1)\n",
    "    return model.get_hidden(x).cpu().detach()[0][0]"
   ]
  },
  {
   "cell_type": "code",
   "execution_count": 31,
   "metadata": {},
   "outputs": [],
   "source": [
    "vocab = \"*ABCDEFGHIJKLMNOPQRSTUVX\"[0:10]\n",
    "colors = [1, 0, 0.5, 0.75]\n",
    "color_names = [\"red\",\"green\",\"yellow\",\"blue\"]"
   ]
  },
  {
   "cell_type": "code",
   "execution_count": 32,
   "metadata": {},
   "outputs": [],
   "source": [
    "names = []\n",
    "embedding = []\n",
    "for i, v in enumerate(vocab):\n",
    "    x = torch.zeros(32)-1\n",
    "    comm = torch.zeros(10)\n",
    "    comm[i] = 1\n",
    "    x[-10:] = comm\n",
    "    embedding.append(get_repr_x(model, x))\n",
    "    names.append(vocab[i])\n",
    "\n",
    "for color, color_name in zip(colors, color_names):\n",
    "    x = torch.zeros(32)-1\n",
    "    x[2] = x[3] = color\n",
    "    embedding.append(get_repr_x(model, x))\n",
    "    names.append(\"goal_\"+color_name)\n",
    "\n",
    "for i in range(4):\n",
    "    for j, (color, color_name) in enumerate(zip(colors, color_names)):\n",
    "        x = torch.zeros(32)-1\n",
    "        x[4+i*3] = x[5+i*3] = 1\n",
    "        x[6+i*3] = color\n",
    "        embedding.append(get_repr_x(model, x))\n",
    "        names.append(f\"landmark_{i}_\"+color_name)\n",
    "\n",
    "for i, v in enumerate(vocab):\n",
    "    x = torch.zeros(32)-1\n",
    "    comm = torch.zeros(10)\n",
    "    comm[i] = 1\n",
    "    x[-10:] = comm\n",
    "    for color, color_name in zip(colors, color_names):\n",
    "        x[2] = x[3] = color\n",
    "        embedding.append(get_repr_x(model, x))\n",
    "        names.append(vocab[i]+\"_goal_\"+color_name)\n",
    "\n",
    "for k, v in enumerate(vocab):\n",
    "    for i in range(4):\n",
    "        x = torch.zeros(32)-1\n",
    "        comm = torch.zeros(10)\n",
    "        comm[k] = 1\n",
    "        x[-10:] = comm\n",
    "        for _, (color, color_name) in enumerate(zip(colors, color_names)):\n",
    "            x[4+i*3] = x[5+i*3] = 1\n",
    "            x[6+i*3] = color\n",
    "            embedding.append(get_repr_x(model, x))\n",
    "            names.append(f\"{vocab[k]}_landmark_{i}_\"+color_name)\n",
    "\n",
    "for i in range(4):\n",
    "    for color_goal, color_goal_name in zip(colors, color_names):\n",
    "        x = torch.zeros(32)-1\n",
    "        x[2] = x[3] = color_goal\n",
    "        for j, (color, color_name) in enumerate(zip(colors, color_names)):\n",
    "            x[4+i*3] = x[5+i*3] = 1\n",
    "            x[6+i*3] = color\n",
    "            embedding.append(get_repr_x(model, x))\n",
    "            names.append(f\"goal_{color_goal_name}_landmark_{i}_\"+color_name)\n",
    "\n",
    "embedding = torch.vstack(embedding)"
   ]
  },
  {
   "cell_type": "code",
   "execution_count": 33,
   "metadata": {},
   "outputs": [],
   "source": [
    "\n",
    "\n",
    "writer = SummaryWriter(\"simple6\")\n",
    "writer.add_embedding(embedding, metadata=names)"
   ]
  },
  {
   "cell_type": "code",
   "execution_count": 34,
   "metadata": {},
   "outputs": [
    {
     "data": {
      "text/plain": [
       "tensor([[20.3228,  0.8163,  6.0628,  ...,  0.0000, 21.3462,  2.5827],\n",
       "        [22.8575,  0.7777,  6.2456,  ...,  0.0000, 23.5095,  3.3312],\n",
       "        [21.7452,  0.8898,  5.8299,  ...,  0.0000, 21.8959,  2.6577],\n",
       "        ...,\n",
       "        [27.8619,  0.0000,  6.7523,  ...,  0.0000, 33.9109,  6.2006],\n",
       "        [27.4077,  0.0000,  6.8302,  ...,  0.0000, 33.2574,  6.1668],\n",
       "        [27.1135,  0.0000,  6.8692,  ...,  0.0000, 32.8486,  6.1380]])"
      ]
     },
     "execution_count": 34,
     "metadata": {},
     "output_type": "execute_result"
    }
   ],
   "source": [
    "embedding"
   ]
  },
  {
   "cell_type": "code",
   "execution_count": null,
   "metadata": {},
   "outputs": [],
   "source": []
  }
 ],
 "metadata": {
  "interpreter": {
   "hash": "89ab6155757f1703afe1500e0ab273a1d63dd2fd3bbb4542de3a4350ff375883"
  },
  "kernelspec": {
   "display_name": "Python 3.9.6 64-bit ('language_evolution')",
   "language": "python",
   "name": "python3"
  },
  "language_info": {
   "codemirror_mode": {
    "name": "ipython",
    "version": 3
   },
   "file_extension": ".py",
   "mimetype": "text/x-python",
   "name": "python",
   "nbconvert_exporter": "python",
   "pygments_lexer": "ipython3",
   "version": "3.9.6"
  },
  "orig_nbformat": 4
 },
 "nbformat": 4,
 "nbformat_minor": 2
}
