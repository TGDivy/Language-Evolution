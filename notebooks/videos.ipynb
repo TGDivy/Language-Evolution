{
 "cells": [
  {
   "cell_type": "code",
   "execution_count": 1,
   "metadata": {},
   "outputs": [],
   "source": [
    "import os\n",
    "import torch\n",
    "from torchvision.io import read_video\n"
   ]
  },
  {
   "cell_type": "code",
   "execution_count": 2,
   "metadata": {},
   "outputs": [],
   "source": [
    "path = os.path.abspath(\"experiments/PPO-simple-SELU/videos/PPO-simple-SELU-99-step-0-to-step-70.mp4\")\n",
    "video = read_video(path)\n",
    "v = video[0][None, :]\n",
    "v = v.reshape((1, -1, 3, 1000, 1000))\n",
    "# print(v.shape)\n",
    "\n",
    "# self.logger.add_video(f\"{self.experiment_name}-{id}\", v, fps=30)"
   ]
  },
  {
   "cell_type": "code",
   "execution_count": 3,
   "metadata": {},
   "outputs": [],
   "source": [
    "import cv2"
   ]
  },
  {
   "cell_type": "code",
   "execution_count": 11,
   "metadata": {},
   "outputs": [],
   "source": [
    "video = cv2.VideoCapture(path)"
   ]
  },
  {
   "cell_type": "code",
   "execution_count": 16,
   "metadata": {},
   "outputs": [
    {
     "name": "stdout",
     "output_type": "stream",
     "text": [
      "(1000, 1000, 3)\n",
      "(1000, 1000, 3)\n",
      "(1000, 1000, 3)\n",
      "(1000, 1000, 3)\n",
      "(1000, 1000, 3)\n",
      "(1000, 1000, 3)\n",
      "(1000, 1000, 3)\n",
      "(1000, 1000, 3)\n",
      "(1000, 1000, 3)\n",
      "(1000, 1000, 3)\n",
      "(1000, 1000, 3)\n",
      "(1000, 1000, 3)\n",
      "(1000, 1000, 3)\n",
      "(1000, 1000, 3)\n",
      "(1000, 1000, 3)\n",
      "(1000, 1000, 3)\n",
      "(1000, 1000, 3)\n",
      "(1000, 1000, 3)\n",
      "(1000, 1000, 3)\n",
      "(1000, 1000, 3)\n",
      "(1000, 1000, 3)\n",
      "(1000, 1000, 3)\n",
      "(1000, 1000, 3)\n",
      "(1000, 1000, 3)\n",
      "(1000, 1000, 3)\n",
      "(1000, 1000, 3)\n",
      "(1000, 1000, 3)\n",
      "(1000, 1000, 3)\n",
      "(1000, 1000, 3)\n",
      "(1000, 1000, 3)\n",
      "(1000, 1000, 3)\n",
      "(1000, 1000, 3)\n",
      "(1000, 1000, 3)\n",
      "(1000, 1000, 3)\n",
      "(1000, 1000, 3)\n",
      "(1000, 1000, 3)\n",
      "(1000, 1000, 3)\n",
      "(1000, 1000, 3)\n",
      "(1000, 1000, 3)\n",
      "(1000, 1000, 3)\n",
      "(1000, 1000, 3)\n",
      "(1000, 1000, 3)\n",
      "(1000, 1000, 3)\n",
      "(1000, 1000, 3)\n",
      "(1000, 1000, 3)\n",
      "(1000, 1000, 3)\n",
      "(1000, 1000, 3)\n",
      "(1000, 1000, 3)\n",
      "(1000, 1000, 3)\n",
      "(1000, 1000, 3)\n",
      "(1000, 1000, 3)\n",
      "(1000, 1000, 3)\n",
      "(1000, 1000, 3)\n",
      "(1000, 1000, 3)\n",
      "(1000, 1000, 3)\n",
      "(1000, 1000, 3)\n",
      "(1000, 1000, 3)\n",
      "(1000, 1000, 3)\n",
      "(1000, 1000, 3)\n",
      "(1000, 1000, 3)\n",
      "(1000, 1000, 3)\n",
      "(1000, 1000, 3)\n",
      "(1000, 1000, 3)\n",
      "(1000, 1000, 3)\n",
      "(1000, 1000, 3)\n",
      "(1000, 1000, 3)\n",
      "(1000, 1000, 3)\n",
      "(1000, 1000, 3)\n",
      "(1000, 1000, 3)\n",
      "(1000, 1000, 3)\n",
      "(1000, 1000, 3)\n"
     ]
    }
   ],
   "source": [
    "video = cv2.VideoCapture(path)\n",
    "while(video.isOpened()):\n",
    "    ret, frame = video.read()\n",
    "    if ret:\n",
    "        # frame = cv2.cvtColor(frame, cv2.COLOR_BGR2RGB)\n",
    "        frame = frame.reshape((3, 1000, 1000))\n",
    "        # frame = frame.reshape((1000, 1000, 3))\n",
    "\n",
    "        print(frame.shape)\n",
    "        cv2.imshow('Frame',frame)\n",
    "        if cv2.waitKey(25) & 0xFF == ord('q'):\n",
    "            break\n",
    "    else:\n",
    "        break\n",
    "video.release()\n",
    "cv2.destroyAllWindows()"
   ]
  },
  {
   "cell_type": "code",
   "execution_count": null,
   "metadata": {},
   "outputs": [],
   "source": []
  }
 ],
 "metadata": {
  "interpreter": {
   "hash": "89ab6155757f1703afe1500e0ab273a1d63dd2fd3bbb4542de3a4350ff375883"
  },
  "kernelspec": {
   "display_name": "Python 3.9.6 64-bit ('language_evolution': pyenv)",
   "name": "python3"
  },
  "language_info": {
   "codemirror_mode": {
    "name": "ipython",
    "version": 3
   },
   "file_extension": ".py",
   "mimetype": "text/x-python",
   "name": "python",
   "nbconvert_exporter": "python",
   "pygments_lexer": "ipython3",
   "version": "3.9.6"
  },
  "orig_nbformat": 4
 },
 "nbformat": 4,
 "nbformat_minor": 2
}
