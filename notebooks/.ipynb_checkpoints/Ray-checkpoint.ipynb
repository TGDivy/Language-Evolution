{
 "cells": [
  {
   "cell_type": "code",
   "execution_count": 1,
   "id": "35cdc2a9",
   "metadata": {},
   "outputs": [],
   "source": [
    "from ray import tune\n",
    "from ray.rllib.models import ModelCatalog\n",
    "from ray.rllib.models.torch.torch_modelv2 import TorchModelV2\n",
    "from ray.tune.registry import register_env\n",
    "from ray.rllib.env.wrappers.pettingzoo_env import ParallelPettingZooEnv\n",
    "from pettingzoo.mpe import simple_v2\n",
    "import supersuit as ss\n",
    "import torch\n",
    "from torch import nn\n",
    "\n",
    "import supersuit as ss"
   ]
  },
  {
   "cell_type": "code",
   "execution_count": 2,
   "id": "28468905",
   "metadata": {},
   "outputs": [],
   "source": [
    "env = simple_v2.parallel_env(max_cycles=25, continuous_actions=False)\n",
    "env = ss.pad_observations_v0(env)\n",
    "env = ss.pettingzoo_env_to_vec_env_v1(env)\n",
    "\n",
    "num_envs = 4\n",
    "game = ss.gym_vec_env_v0(env, num_envs, multiprocessing=True)"
   ]
  },
  {
   "cell_type": "code",
   "execution_count": 5,
   "id": "277de856",
   "metadata": {},
   "outputs": [],
   "source": [
    "obs = game.reset()"
   ]
  },
  {
   "cell_type": "code",
   "execution_count": 7,
   "id": "c675932c",
   "metadata": {},
   "outputs": [
    {
     "data": {
      "text/plain": [
       "array([0.       , 0.       , 0.9924087, 1.0091883], dtype=float32)"
      ]
     },
     "execution_count": 7,
     "metadata": {},
     "output_type": "execute_result"
    }
   ],
   "source": [
    "obs[0]"
   ]
  },
  {
   "cell_type": "code",
   "execution_count": 4,
   "id": "2df0d68f",
   "metadata": {},
   "outputs": [
    {
     "data": {
      "text/plain": [
       "(array([[ 0.        ,  0.        ,  0.73537123, -0.3400056 ],\n",
       "        [ 0.        ,  0.        ,  0.73537123, -0.3400056 ],\n",
       "        [ 0.        ,  0.        ,  0.73537123, -0.3400056 ],\n",
       "        [ 0.        ,  0.        ,  0.73537123, -0.3400056 ]],\n",
       "       dtype=float32),\n",
       " array([[-0.6563747],\n",
       "        [-0.6563747],\n",
       "        [-0.6563747],\n",
       "        [-0.6563747]], dtype=float32),\n",
       " array([[False],\n",
       "        [False],\n",
       "        [False],\n",
       "        [False]]),\n",
       " ([{}], [{}], [{}], [{}]))"
      ]
     },
     "execution_count": 4,
     "metadata": {},
     "output_type": "execute_result"
    }
   ],
   "source": [
    "game.step([[0],[0],[0],[0]])"
   ]
  },
  {
   "cell_type": "code",
   "execution_count": 25,
   "id": "2c2725c1",
   "metadata": {},
   "outputs": [
    {
     "data": {
      "text/plain": [
       "(4,)"
      ]
     },
     "execution_count": 25,
     "metadata": {},
     "output_type": "execute_result"
    }
   ],
   "source": [
    "game.single_observation_space.shape"
   ]
  }
 ],
 "metadata": {
  "kernelspec": {
   "display_name": "Python 3 (ipykernel)",
   "language": "python",
   "name": "python3"
  },
  "language_info": {
   "codemirror_mode": {
    "name": "ipython",
    "version": 3
   },
   "file_extension": ".py",
   "mimetype": "text/x-python",
   "name": "python",
   "nbconvert_exporter": "python",
   "pygments_lexer": "ipython3",
   "version": "3.9.6"
  }
 },
 "nbformat": 4,
 "nbformat_minor": 5
}
