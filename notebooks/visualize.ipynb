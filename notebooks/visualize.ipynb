{
 "cells": [
  {
   "cell_type": "code",
   "execution_count": 1,
   "metadata": {},
   "outputs": [],
   "source": [
    "import numpy as np\n",
    "import seaborn as sns\n",
    "import matplotlib.pyplot as plt"
   ]
  },
  {
   "cell_type": "code",
   "execution_count": 7,
   "metadata": {},
   "outputs": [],
   "source": [
    "symbols = np.random.randint(0,20,25)\n",
    "multi_symbols = np.random.randint(0,20,(25,100))"
   ]
  },
  {
   "cell_type": "code",
   "execution_count": 10,
   "metadata": {},
   "outputs": [
    {
     "name": "stdout",
     "output_type": "stream",
     "text": [
      "warning: Embedding dir exists, did you set global_step for add_embedding()?\n",
      "warning: Embedding dir exists, did you set global_step for add_embedding()?\n"
     ]
    }
   ],
   "source": [
    "import keyword\n",
    "import torch\n",
    "from torch.utils.tensorboard import SummaryWriter\n",
    "\n",
    "# create a summary writer with automatically generated folder name.\n",
    "writer = SummaryWriter()\n",
    "meta = []\n",
    "while len(meta)<100:\n",
    "    meta = meta+keyword.kwlist # get some strings\n",
    "meta = meta[:100]\n",
    "\n",
    "for i, v in enumerate(meta):\n",
    "    meta[i] = v+str(i)\n",
    "\n",
    "label_img = torch.rand(100, 3, 10, 32)\n",
    "for i in range(100):\n",
    "    label_img[i]*=i/100.0\n",
    "\n",
    "writer.add_embedding(torch.randn(100, 5), metadata=meta, label_img=label_img)\n",
    "writer.add_embedding(torch.randn(100, 5), label_img=label_img)\n",
    "writer.add_embedding(torch.randn(100, 5), metadata=meta)"
   ]
  },
  {
   "cell_type": "code",
   "execution_count": 65,
   "metadata": {},
   "outputs": [
    {
     "data": {
      "text/plain": [
       "([<matplotlib.axis.YTick at 0x7f48c51a8dc0>], [Text(0, 0, '')])"
      ]
     },
     "execution_count": 65,
     "metadata": {},
     "output_type": "execute_result"
    },
    {
     "data": {
      "image/png": "[encoded data removed]",
      "text/plain": [
       "<Figure size 720x720 with 1 Axes>"
      ]
     },
     "metadata": {
      "needs_background": "light"
     },
     "output_type": "display_data"
    }
   ],
   "source": [
    "import matplotlib.pyplot as plt\n",
    "import matplotlib.patches as mpatches\n",
    "import numpy as np\n",
    "import io\n",
    "\n",
    "episodes = 10\n",
    "lens = 25\n",
    "vocab = 20\n",
    "array = np.random.randint(0,vocab,(episodes,lens,3))\n",
    "dummy = np.zeros((episodes,lens,4), dtype=np.int)\n",
    "dummy[:,:,:3] = array\n",
    "dummy = np.hstack([dummy[i] for i in range(episodes)])\n",
    "\n",
    "a = sns.color_palette(\"crest\", vocab)\n",
    "labels = \"*ABCDEFGHIJKLMNOPQRST\"\n",
    "arrayShow = np.array([[a[i] for i in j] for j in dummy])    \n",
    "patches =[mpatches.Patch(color=a[i],label=labels[i]) for i in range(0,vocab)]\n",
    "\n",
    "fig = plt.figure(figsize=(10,10))\n",
    "a = plt.imshow(arrayShow)\n",
    "plt.legend(handles=patches, loc=5, borderaxespad=-5.)\n",
    "plt.yticks([1])\n",
    "# plt.show()\n",
    "# buf = io.BytesIO()\n",
    "# plt.savefig(buf, format='png')\n",
    "# buf.seek(0)\n",
    "# image = tf.image.decode_png(plot_buf.getvalue(), channels=4)\n"
   ]
  },
  {
   "cell_type": "code",
   "execution_count": 2,
   "metadata": {},
   "outputs": [],
   "source": [
    "import seaborn as sns"
   ]
  },
  {
   "cell_type": "code",
   "execution_count": 64,
   "metadata": {},
   "outputs": [
    {
     "data": {
      "text/plain": [
       "matplotlib.figure.Figure"
      ]
     },
     "execution_count": 64,
     "metadata": {},
     "output_type": "execute_result"
    }
   ],
   "source": [
    "type(fig)"
   ]
  }
 ],
 "metadata": {
  "interpreter": {
   "hash": "89ab6155757f1703afe1500e0ab273a1d63dd2fd3bbb4542de3a4350ff375883"
  },
  "kernelspec": {
   "display_name": "Python 3.9.6 64-bit ('language_evolution')",
   "language": "python",
   "name": "python3"
  },
  "language_info": {
   "codemirror_mode": {
    "name": "ipython",
    "version": 3
   },
   "file_extension": ".py",
   "mimetype": "text/x-python",
   "name": "python",
   "nbconvert_exporter": "python",
   "pygments_lexer": "ipython3",
   "version": "3.9.6"
  },
  "orig_nbformat": 4
 },
 "nbformat": 4,
 "nbformat_minor": 2
}
