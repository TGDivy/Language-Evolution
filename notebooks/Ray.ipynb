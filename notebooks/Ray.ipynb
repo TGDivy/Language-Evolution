{
 "cells": [
  {
   "cell_type": "code",
   "execution_count": 64,
   "id": "35cdc2a9",
   "metadata": {},
   "outputs": [],
   "source": [
    "from ray import tune\n",
    "from ray.rllib.models import ModelCatalog\n",
    "from ray.rllib.models.torch.torch_modelv2 import TorchModelV2\n",
    "from ray.tune.registry import register_env\n",
    "from ray.rllib.env.wrappers.pettingzoo_env import ParallelPettingZooEnv\n",
    "from pettingzoo.mpe import simple_v2, simple_reference_v2, simple_reference_v3\n",
    "import supersuit as ss\n",
    "import torch\n",
    "from torch import nn\n",
    "\n",
    "import supersuit as ss"
   ]
  },
  {
   "cell_type": "code",
   "execution_count": 2,
   "id": "28468905",
   "metadata": {},
   "outputs": [
    {
     "name": "stderr",
     "output_type": "stream",
     "text": [
      "/home/tgdivy/Desktop/needing_to_communicate/petting_zoo_mpe/pettingzoo/utils/wrappers/base.py:66: UserWarning: The `action_spaces` dictionary is deprecated. Use the `action_space` function instead.\n",
      "  warnings.warn(\n",
      "/home/tgdivy/Desktop/needing_to_communicate/petting_zoo_mpe/pettingzoo/utils/wrappers/base.py:51: UserWarning: The `observation_spaces` dictionary is deprecated. Use the `observation_space` function instead.\n",
      "  warnings.warn(\n"
     ]
    }
   ],
   "source": [
    "env = simple_reference_v2.parallel_env(max_cycles=25, continuous_actions=False)\n",
    "# env = ss.pad_observations_v0(env)\n",
    "env = ss.pettingzoo_env_to_vec_env_v1(env)"
   ]
  },
  {
   "cell_type": "code",
   "execution_count": 3,
   "id": "46d0f306",
   "metadata": {},
   "outputs": [
    {
     "ename": "NameError",
     "evalue": "name 'num_envs' is not defined",
     "output_type": "error",
     "traceback": [
      "\u001b[0;31m---------------------------------------------------------------------------\u001b[0m",
      "\u001b[0;31mNameError\u001b[0m                                 Traceback (most recent call last)",
      "\u001b[0;32m/tmp/ipykernel_274227/3302707400.py\u001b[0m in \u001b[0;36m<module>\u001b[0;34m\u001b[0m\n\u001b[1;32m      1\u001b[0m \u001b[0menv\u001b[0m\u001b[0;34m.\u001b[0m\u001b[0mreset\u001b[0m\u001b[0;34m(\u001b[0m\u001b[0;34m)\u001b[0m\u001b[0;34m\u001b[0m\u001b[0;34m\u001b[0m\u001b[0m\n\u001b[0;32m----> 2\u001b[0;31m \u001b[0mgame\u001b[0m \u001b[0;34m=\u001b[0m \u001b[0mss\u001b[0m\u001b[0;34m.\u001b[0m\u001b[0mstable_baselines3_vec_env_v0\u001b[0m\u001b[0;34m(\u001b[0m\u001b[0menv\u001b[0m\u001b[0;34m,\u001b[0m \u001b[0mnum_envs\u001b[0m\u001b[0;34m,\u001b[0m \u001b[0mmultiprocessing\u001b[0m\u001b[0;34m=\u001b[0m\u001b[0;32mFalse\u001b[0m\u001b[0;34m)\u001b[0m\u001b[0;34m\u001b[0m\u001b[0;34m\u001b[0m\u001b[0m\n\u001b[0m\u001b[1;32m      3\u001b[0m \u001b[0mobs\u001b[0m \u001b[0;34m=\u001b[0m \u001b[0mgame\u001b[0m\u001b[0;34m.\u001b[0m\u001b[0mreset\u001b[0m\u001b[0;34m(\u001b[0m\u001b[0;34m)\u001b[0m\u001b[0;34m\u001b[0m\u001b[0;34m\u001b[0m\u001b[0m\n",
      "\u001b[0;31mNameError\u001b[0m: name 'num_envs' is not defined"
     ]
    }
   ],
   "source": [
    "env.reset()\n",
    "game = ss.stable_baselines3_vec_env_v0(env, num_envs, multiprocessing=False)\n",
    "obs = game.reset()"
   ]
  },
  {
   "cell_type": "code",
   "execution_count": 94,
   "id": "277de856",
   "metadata": {},
   "outputs": [
    {
     "name": "stderr",
     "output_type": "stream",
     "text": [
      "/home/tgdivy/Desktop/needing_to_communicate/petting_zoo_mpe/pettingzoo/utils/wrappers/base.py:66: UserWarning: The `action_spaces` dictionary is deprecated. Use the `action_space` function instead.\n",
      "  warnings.warn(\n",
      "/home/tgdivy/Desktop/needing_to_communicate/petting_zoo_mpe/pettingzoo/utils/wrappers/base.py:51: UserWarning: The `observation_spaces` dictionary is deprecated. Use the `observation_space` function instead.\n",
      "  warnings.warn(\n"
     ]
    },
    {
     "data": {
      "text/plain": [
       "6"
      ]
     },
     "execution_count": 94,
     "metadata": {},
     "output_type": "execute_result"
    }
   ],
   "source": [
    "num_envs = 3\n",
    "env = simple_reference_v2.parallel_env(max_cycles=25, continuous_actions=False)\n",
    "# env = simple_reference_v2.env(max_cycles=25, continuous_actions=False)\n",
    "# env = ss.pad_observations_v0(env)\n",
    "env = ss.pettingzoo_env_to_vec_env_v1(env)\n",
    "\n",
    "game = ss.concat_vec_envs_v1(env, num_envs, 1)\n",
    "game.seed(1)\n",
    "# game = ss.vectorize_aec_env_v0(env, num_envs, num_cpus=num_envs)\n",
    "game.num_envs"
   ]
  },
  {
   "cell_type": "code",
   "execution_count": 99,
   "id": "2df0d68f",
   "metadata": {},
   "outputs": [
    {
     "ename": "TypeError",
     "evalue": "seed() takes from 1 to 2 positional arguments but 3 were given",
     "output_type": "error",
     "traceback": [
      "\u001b[0;31m---------------------------------------------------------------------------\u001b[0m",
      "\u001b[0;31mTypeError\u001b[0m                                 Traceback (most recent call last)",
      "\u001b[0;32m/tmp/ipykernel_274227/2855653467.py\u001b[0m in \u001b[0;36m<module>\u001b[0;34m\u001b[0m\n\u001b[1;32m      1\u001b[0m \u001b[0mobs\u001b[0m \u001b[0;34m=\u001b[0m \u001b[0mgame\u001b[0m\u001b[0;34m.\u001b[0m\u001b[0mreset\u001b[0m\u001b[0;34m(\u001b[0m\u001b[0;34m)\u001b[0m\u001b[0;34m\u001b[0m\u001b[0;34m\u001b[0m\u001b[0m\n\u001b[1;32m      2\u001b[0m \u001b[0;31m# game.step(([[0,0,0]]))\u001b[0m\u001b[0;34m\u001b[0m\u001b[0;34m\u001b[0m\u001b[0;34m\u001b[0m\u001b[0m\n\u001b[0;32m----> 3\u001b[0;31m \u001b[0mgame\u001b[0m\u001b[0;34m.\u001b[0m\u001b[0mseed\u001b[0m\u001b[0;34m(\u001b[0m\u001b[0;36m1\u001b[0m\u001b[0;34m,\u001b[0m\u001b[0;36m2\u001b[0m\u001b[0;34m)\u001b[0m\u001b[0;34m\u001b[0m\u001b[0;34m\u001b[0m\u001b[0m\n\u001b[0m",
      "\u001b[0;31mTypeError\u001b[0m: seed() takes from 1 to 2 positional arguments but 3 were given"
     ]
    }
   ],
   "source": [
    "obs = game.reset()\n",
    "# game.step(([[0,0,0]]))\n",
    "game.seed()"
   ]
  },
  {
   "cell_type": "code",
   "execution_count": 102,
   "id": "a647ba29",
   "metadata": {},
   "outputs": [
    {
     "data": {
      "text/plain": [
       "(array([ 0.0000000e+00,  0.0000000e+00,  7.5000000e-01,  2.5000000e-01,\n",
       "         2.5000000e-01,  2.5000000e-01,  7.5000000e-01,  2.5000000e-01,\n",
       "         2.5000000e-01,  2.5000000e-01,  7.5000000e-01, -9.2534435e-01,\n",
       "        -2.4318388e-01,  1.3500999e-03,  9.9485099e-01, -1.0974395e-01,\n",
       "         1.4217862e+00,  2.5000000e-01,  7.5000000e-01,  2.5000000e-01,\n",
       "         0.0000000e+00,  0.0000000e+00,  0.0000000e+00,  0.0000000e+00,\n",
       "         0.0000000e+00,  0.0000000e+00,  0.0000000e+00,  0.0000000e+00,\n",
       "         0.0000000e+00,  0.0000000e+00], dtype=float32),\n",
       " array([ 0.        ,  0.        ,  0.75      ,  0.25      ,  0.25      ,\n",
       "         0.25      ,  0.75      ,  0.25      ,  0.25      ,  0.25      ,\n",
       "         0.75      , -0.27009377, -1.4059908 ,  0.65660065, -0.16795598,\n",
       "         0.5455066 ,  0.2589792 ,  0.75      ,  0.25      ,  0.25      ,\n",
       "         0.        ,  0.        ,  0.        ,  0.        ,  0.        ,\n",
       "         0.        ,  0.        ,  0.        ,  0.        ,  0.        ],\n",
       "       dtype=float32))"
      ]
     },
     "execution_count": 102,
     "metadata": {},
     "output_type": "execute_result"
    }
   ],
   "source": [
    "obs[0], obs[1]"
   ]
  },
  {
   "cell_type": "code",
   "execution_count": 103,
   "id": "0e4ed02e",
   "metadata": {},
   "outputs": [
    {
     "data": {
      "text/plain": [
       "(array([ 0.        ,  0.        ,  0.75      ,  0.25      ,  0.25      ,\n",
       "         0.25      ,  0.75      ,  0.25      ,  0.25      ,  0.25      ,\n",
       "         0.75      , -0.31752744, -0.6881064 , -1.3845125 , -0.9942483 ,\n",
       "        -1.3337282 , -0.5535475 ,  0.25      ,  0.75      ,  0.25      ,\n",
       "         0.        ,  0.        ,  0.        ,  0.        ,  0.        ,\n",
       "         0.        ,  0.        ,  0.        ,  0.        ,  0.        ],\n",
       "       dtype=float32),\n",
       " array([ 0.        ,  0.        ,  0.75      ,  0.25      ,  0.25      ,\n",
       "         0.25      ,  0.75      ,  0.25      ,  0.25      ,  0.25      ,\n",
       "         0.75      , -0.7359202 ,  0.6998107 , -1.8029053 ,  0.39366877,\n",
       "        -1.7521209 ,  0.8343696 ,  0.25      ,  0.75      ,  0.25      ,\n",
       "         0.        ,  0.        ,  0.        ,  0.        ,  0.        ,\n",
       "         0.        ,  0.        ,  0.        ,  0.        ,  0.        ],\n",
       "       dtype=float32))"
      ]
     },
     "execution_count": 103,
     "metadata": {},
     "output_type": "execute_result"
    }
   ],
   "source": [
    "obs[2], obs[3]"
   ]
  },
  {
   "cell_type": "code",
   "execution_count": 74,
   "id": "2c2725c1",
   "metadata": {},
   "outputs": [
    {
     "name": "stdout",
     "output_type": "stream",
     "text": [
      "[1 1 1 1 1 1]\n"
     ]
    }
   ],
   "source": [
    "import numpy as np\n",
    "action = np.zeros((6), dtype=int)+1\n",
    "print(action)\n",
    "obs = game.step(action)\n",
    "game.render()"
   ]
  },
  {
   "cell_type": "code",
   "execution_count": 76,
   "id": "66b67ac6",
   "metadata": {},
   "outputs": [
    {
     "data": {
      "text/plain": [
       "array([-1.3477217, -1.386628 , -1.3477217, -1.386628 , -1.3477217,\n",
       "       -1.386628 ], dtype=float32)"
      ]
     },
     "execution_count": 76,
     "metadata": {},
     "output_type": "execute_result"
    }
   ],
   "source": [
    "obs[1]"
   ]
  },
  {
   "cell_type": "code",
   "execution_count": null,
   "id": "d76de666",
   "metadata": {},
   "outputs": [],
   "source": []
  }
 ],
 "metadata": {
  "kernelspec": {
   "display_name": "Python 3 (ipykernel)",
   "language": "python",
   "name": "python3"
  },
  "language_info": {
   "codemirror_mode": {
    "name": "ipython",
    "version": 3
   },
   "file_extension": ".py",
   "mimetype": "text/x-python",
   "name": "python",
   "nbconvert_exporter": "python",
   "pygments_lexer": "ipython3",
   "version": "3.9.6"
  }
 },
 "nbformat": 4,
 "nbformat_minor": 5
}
