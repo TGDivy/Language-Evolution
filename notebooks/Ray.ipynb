{
 "cells": [
  {
   "cell_type": "code",
   "execution_count": 1,
   "id": "35cdc2a9",
   "metadata": {},
   "outputs": [
    {
     "ename": "ModuleNotFoundError",
     "evalue": "No module named 'pettingzoo'",
     "output_type": "error",
     "traceback": [
      "\u001b[0;31m---------------------------------------------------------------------------\u001b[0m",
      "\u001b[0;31mModuleNotFoundError\u001b[0m                       Traceback (most recent call last)",
      "\u001b[0;32m/tmp/ipykernel_1716771/2231711481.py\u001b[0m in \u001b[0;36m<module>\u001b[0;34m\u001b[0m\n\u001b[0;32m----> 1\u001b[0;31m \u001b[0;32mfrom\u001b[0m \u001b[0mpettingzoo\u001b[0m\u001b[0;34m.\u001b[0m\u001b[0mmpe\u001b[0m \u001b[0;32mimport\u001b[0m \u001b[0msimple_v2\u001b[0m\u001b[0;34m,\u001b[0m \u001b[0msimple_reference_v2\u001b[0m\u001b[0;34m,\u001b[0m \u001b[0msimple_reference_v3\u001b[0m\u001b[0;34m\u001b[0m\u001b[0;34m\u001b[0m\u001b[0m\n\u001b[0m\u001b[1;32m      2\u001b[0m \u001b[0;32mimport\u001b[0m \u001b[0msupersuit\u001b[0m \u001b[0;32mas\u001b[0m \u001b[0mss\u001b[0m\u001b[0;34m\u001b[0m\u001b[0;34m\u001b[0m\u001b[0m\n",
      "\u001b[0;31mModuleNotFoundError\u001b[0m: No module named 'pettingzoo'"
     ]
    }
   ],
   "source": [
    "from pettingzoo.mpe import simple_v2, simple_reference_v2, simple_reference_v3\n",
    "import supersuit as ss"
   ]
  },
  {
   "cell_type": "code",
   "execution_count": 12,
   "id": "ce0131f6",
   "metadata": {},
   "outputs": [],
   "source": [
    "\n",
    "def make_env(scenario_name, benchmark=False):\n",
    "    '''\n",
    "    Creates a MultiAgentEnv object as env. This can be used similar to a gym\n",
    "    environment by calling env.reset() and env.step().\n",
    "    Use env.render() to view the environment on the screen.\n",
    "    Input:\n",
    "        scenario_name   :   name of the scenario from ./scenarios/ to be Returns\n",
    "                            (without the .py extension)\n",
    "        benchmark       :   whether you want to produce benchmarking data\n",
    "                            (usually only done during evaluation)\n",
    "    Some useful env properties (see environment.py):\n",
    "        .observation_space  :   Returns the observation space for each agent\n",
    "        .action_space       :   Returns the action space for each agent\n",
    "        .n                  :   Returns the number of Agents\n",
    "    '''\n",
    "    from multiagent.environment import MultiAgentEnv\n",
    "    import multiagent.scenarios as scenarios\n",
    "\n",
    "    # load scenario from script\n",
    "    scenario = scenarios.load(scenario_name + \".py\").Scenario()\n",
    "    # create world\n",
    "    world = scenario.make_world()\n",
    "    # create multiagent environment\n",
    "    if benchmark:        \n",
    "        env = MultiAgentEnv(world, scenario.reset_world, scenario.reward, scenario.observation, scenario.benchmark_data)\n",
    "    else:\n",
    "        env = MultiAgentEnv(world, scenario.reset_world, scenario.reward, scenario.observation)\n",
    "    return env"
   ]
  },
  {
   "cell_type": "code",
   "execution_count": 13,
   "id": "cb577b1b",
   "metadata": {},
   "outputs": [
    {
     "ename": "ImportError",
     "evalue": "cannot import name 'prng' from 'gym.spaces' (/home/tgdivy/.pyenv/versions/3.9.6/envs/language_evolution/lib/python3.9/site-packages/gym/spaces/__init__.py)",
     "output_type": "error",
     "traceback": [
      "\u001b[0;31m---------------------------------------------------------------------------\u001b[0m",
      "\u001b[0;31mImportError\u001b[0m                               Traceback (most recent call last)",
      "\u001b[0;32m/tmp/ipykernel_1716771/2706784501.py\u001b[0m in \u001b[0;36m<module>\u001b[0;34m\u001b[0m\n\u001b[0;32m----> 1\u001b[0;31m \u001b[0mmake_env\u001b[0m\u001b[0;34m(\u001b[0m\u001b[0;34m\"simple\"\u001b[0m\u001b[0;34m)\u001b[0m\u001b[0;34m\u001b[0m\u001b[0;34m\u001b[0m\u001b[0m\n\u001b[0m",
      "\u001b[0;32m/tmp/ipykernel_1716771/1835857121.py\u001b[0m in \u001b[0;36mmake_env\u001b[0;34m(scenario_name, benchmark)\u001b[0m\n\u001b[1;32m     14\u001b[0m         \u001b[0;34m.\u001b[0m\u001b[0mn\u001b[0m                  \u001b[0;34m:\u001b[0m   \u001b[0mReturns\u001b[0m \u001b[0mthe\u001b[0m \u001b[0mnumber\u001b[0m \u001b[0mof\u001b[0m \u001b[0mAgents\u001b[0m\u001b[0;34m\u001b[0m\u001b[0;34m\u001b[0m\u001b[0m\n\u001b[1;32m     15\u001b[0m     '''\n\u001b[0;32m---> 16\u001b[0;31m     \u001b[0;32mfrom\u001b[0m \u001b[0mmultiagent\u001b[0m\u001b[0;34m.\u001b[0m\u001b[0menvironment\u001b[0m \u001b[0;32mimport\u001b[0m \u001b[0mMultiAgentEnv\u001b[0m\u001b[0;34m\u001b[0m\u001b[0;34m\u001b[0m\u001b[0m\n\u001b[0m\u001b[1;32m     17\u001b[0m     \u001b[0;32mimport\u001b[0m \u001b[0mmultiagent\u001b[0m\u001b[0;34m.\u001b[0m\u001b[0mscenarios\u001b[0m \u001b[0;32mas\u001b[0m \u001b[0mscenarios\u001b[0m\u001b[0;34m\u001b[0m\u001b[0;34m\u001b[0m\u001b[0m\n\u001b[1;32m     18\u001b[0m \u001b[0;34m\u001b[0m\u001b[0m\n",
      "\u001b[0;32m~/Desktop/needing_to_communicate/mpe/multiagent/environment.py\u001b[0m in \u001b[0;36m<module>\u001b[0;34m\u001b[0m\n\u001b[1;32m      3\u001b[0m \u001b[0;32mfrom\u001b[0m \u001b[0mgym\u001b[0m\u001b[0;34m.\u001b[0m\u001b[0menvs\u001b[0m\u001b[0;34m.\u001b[0m\u001b[0mregistration\u001b[0m \u001b[0;32mimport\u001b[0m \u001b[0mEnvSpec\u001b[0m\u001b[0;34m\u001b[0m\u001b[0;34m\u001b[0m\u001b[0m\n\u001b[1;32m      4\u001b[0m \u001b[0;32mimport\u001b[0m \u001b[0mnumpy\u001b[0m \u001b[0;32mas\u001b[0m \u001b[0mnp\u001b[0m\u001b[0;34m\u001b[0m\u001b[0;34m\u001b[0m\u001b[0m\n\u001b[0;32m----> 5\u001b[0;31m \u001b[0;32mfrom\u001b[0m \u001b[0mmultiagent\u001b[0m\u001b[0;34m.\u001b[0m\u001b[0mmulti_discrete\u001b[0m \u001b[0;32mimport\u001b[0m \u001b[0mMultiDiscrete\u001b[0m\u001b[0;34m\u001b[0m\u001b[0;34m\u001b[0m\u001b[0m\n\u001b[0m\u001b[1;32m      6\u001b[0m \u001b[0;34m\u001b[0m\u001b[0m\n\u001b[1;32m      7\u001b[0m \u001b[0;31m# environment for all agents in the multiagent world\u001b[0m\u001b[0;34m\u001b[0m\u001b[0;34m\u001b[0m\u001b[0;34m\u001b[0m\u001b[0m\n",
      "\u001b[0;32m~/Desktop/needing_to_communicate/mpe/multiagent/multi_discrete.py\u001b[0m in \u001b[0;36m<module>\u001b[0;34m\u001b[0m\n\u001b[1;32m      5\u001b[0m \u001b[0;34m\u001b[0m\u001b[0m\n\u001b[1;32m      6\u001b[0m \u001b[0;32mimport\u001b[0m \u001b[0mgym\u001b[0m\u001b[0;34m\u001b[0m\u001b[0;34m\u001b[0m\u001b[0m\n\u001b[0;32m----> 7\u001b[0;31m \u001b[0;32mfrom\u001b[0m \u001b[0mgym\u001b[0m\u001b[0;34m.\u001b[0m\u001b[0mspaces\u001b[0m \u001b[0;32mimport\u001b[0m \u001b[0mprng\u001b[0m\u001b[0;34m\u001b[0m\u001b[0;34m\u001b[0m\u001b[0m\n\u001b[0m\u001b[1;32m      8\u001b[0m \u001b[0;34m\u001b[0m\u001b[0m\n\u001b[1;32m      9\u001b[0m \u001b[0;32mclass\u001b[0m \u001b[0mMultiDiscrete\u001b[0m\u001b[0;34m(\u001b[0m\u001b[0mgym\u001b[0m\u001b[0;34m.\u001b[0m\u001b[0mSpace\u001b[0m\u001b[0;34m)\u001b[0m\u001b[0;34m:\u001b[0m\u001b[0;34m\u001b[0m\u001b[0;34m\u001b[0m\u001b[0m\n",
      "\u001b[0;31mImportError\u001b[0m: cannot import name 'prng' from 'gym.spaces' (/home/tgdivy/.pyenv/versions/3.9.6/envs/language_evolution/lib/python3.9/site-packages/gym/spaces/__init__.py)"
     ]
    }
   ],
   "source": [
    "make_env(\"simple\")"
   ]
  },
  {
   "cell_type": "code",
   "execution_count": 11,
   "id": "98b18dcf",
   "metadata": {
    "scrolled": false
   },
   "outputs": [
    {
     "ename": "AttributeError",
     "evalue": "module 'multiagent' has no attribute 'make_env'",
     "output_type": "error",
     "traceback": [
      "\u001b[0;31m---------------------------------------------------------------------------\u001b[0m",
      "\u001b[0;31mAttributeError\u001b[0m                            Traceback (most recent call last)",
      "\u001b[0;32m/tmp/ipykernel_1716771/3194648240.py\u001b[0m in \u001b[0;36m<module>\u001b[0;34m\u001b[0m\n\u001b[1;32m      1\u001b[0m \u001b[0;31m# vars(multiagent)\u001b[0m\u001b[0;34m\u001b[0m\u001b[0;34m\u001b[0m\u001b[0;34m\u001b[0m\u001b[0m\n\u001b[0;32m----> 2\u001b[0;31m \u001b[0mmultiagent\u001b[0m\u001b[0;34m.\u001b[0m\u001b[0mmake_env\u001b[0m\u001b[0;34m(\u001b[0m\u001b[0;34m)\u001b[0m\u001b[0;34m\u001b[0m\u001b[0;34m\u001b[0m\u001b[0m\n\u001b[0m",
      "\u001b[0;31mAttributeError\u001b[0m: module 'multiagent' has no attribute 'make_env'"
     ]
    }
   ],
   "source": [
    "# vars(multiagent)\n",
    "multiagent.make_env()"
   ]
  },
  {
   "cell_type": "code",
   "execution_count": 2,
   "id": "277de856",
   "metadata": {},
   "outputs": [
    {
     "name": "stderr",
     "output_type": "stream",
     "text": [
      "/home/tgdivy/Desktop/needing_to_communicate/petting_zoo_mpe/pettingzoo/utils/wrappers/base.py:66: UserWarning: The `action_spaces` dictionary is deprecated. Use the `action_space` function instead.\n",
      "  warnings.warn(\n",
      "/home/tgdivy/Desktop/needing_to_communicate/petting_zoo_mpe/pettingzoo/utils/wrappers/base.py:51: UserWarning: The `observation_spaces` dictionary is deprecated. Use the `observation_space` function instead.\n",
      "  warnings.warn(\n"
     ]
    },
    {
     "data": {
      "text/plain": [
       "3"
      ]
     },
     "execution_count": 2,
     "metadata": {},
     "output_type": "execute_result"
    }
   ],
   "source": [
    "num_envs = 3\n",
    "env= simple_v2\n",
    "env = env.parallel_env(max_cycles=25, continuous_actions=False)\n",
    "# env = simple_reference_v2.env(max_cycles=25, continuous_actions=False)\n",
    "# env = ss.pad_observations_v0(env)\n",
    "env = ss.pettingzoo_env_to_vec_env_v1(env)\n",
    "\n",
    "game = ss.concat_vec_envs_v1(env, num_envs, 1)\n",
    "game.seed(1)\n",
    "# game = ss.vectorize_aec_env_v0(env, num_envs, num_cpus=num_envs)\n",
    "game.num_envs"
   ]
  },
  {
   "cell_type": "code",
   "execution_count": 61,
   "id": "2df0d68f",
   "metadata": {},
   "outputs": [],
   "source": [
    "obs = game.reset()\n"
   ]
  },
  {
   "cell_type": "code",
   "execution_count": 62,
   "id": "c46a72da",
   "metadata": {},
   "outputs": [
    {
     "name": "stdout",
     "output_type": "stream",
     "text": [
      "Package                 Version\n",
      "----------------------- ---------\n",
      "absl-py                 0.14.1\n",
      "ale-py                  0.7.2\n",
      "argon2-cffi             20.1.0\n",
      "astroid                 2.8.2\n",
      "astunparse              1.6.3\n",
      "async-generator         1.10\n",
      "atari-py                0.2.9\n",
      "attrs                   21.2.0\n",
      "av                      8.0.3\n",
      "backcall                0.2.0\n",
      "black                   21.9b0\n",
      "bleach                  4.0.0\n",
      "cachetools              4.2.4\n",
      "certifi                 2021.10.8\n",
      "cffi                    1.14.6\n",
      "charset-normalizer      2.0.7\n",
      "clang                   5.0\n",
      "click                   8.0.1\n",
      "cloudpickle             1.6.0\n",
      "cycler                  0.10.0\n",
      "debugpy                 1.4.1\n",
      "decorator               4.4.2\n",
      "defusedxml              0.7.1\n",
      "Deprecated              1.2.13\n",
      "dm-tree                 0.1.6\n",
      "dotmap                  1.3.24\n",
      "entrypoints             0.3\n",
      "filelock                3.6.0\n",
      "flake8                  4.0.1\n",
      "flatbuffers             1.12\n",
      "gast                    0.4.0\n",
      "google-auth             2.3.0\n",
      "google-auth-oauthlib    0.4.6\n",
      "google-pasta            0.2.0\n",
      "grpcio                  1.41.0\n",
      "gym                     0.21.0\n",
      "h5py                    3.1.0\n",
      "idna                    3.3\n",
      "imageio                 2.13.2\n",
      "imageio-ffmpeg          0.4.5\n",
      "importlib-resources     5.3.0\n",
      "ipykernel               6.0.3\n",
      "ipython                 7.26.0\n",
      "ipython-genutils        0.2.0\n",
      "ipywidgets              7.6.3\n",
      "isort                   5.9.3\n",
      "jedi                    0.18.0\n",
      "Jinja2                  3.0.1\n",
      "joblib                  1.1.0\n",
      "jsonschema              3.2.0\n",
      "jupyter                 1.0.0\n",
      "jupyter-client          6.1.12\n",
      "jupyter-console         6.4.0\n",
      "jupyter-core            4.7.1\n",
      "jupyterlab-pygments     0.1.2\n",
      "jupyterlab-widgets      1.0.0\n",
      "keras                   2.6.0\n",
      "Keras-Preprocessing     1.1.2\n",
      "kiwisolver              1.3.1\n",
      "lazy-object-proxy       1.6.0\n",
      "lz4                     4.0.0\n",
      "Markdown                3.3.4\n",
      "MarkupSafe              2.0.1\n",
      "matplotlib              3.4.2\n",
      "matplotlib-inline       0.1.2\n",
      "mccabe                  0.6.1\n",
      "mistune                 0.8.4\n",
      "moviepy                 1.0.3\n",
      "msgpack                 1.0.3\n",
      "mypy-extensions         0.4.3\n",
      "nbclient                0.5.3\n",
      "nbconvert               6.1.0\n",
      "nbformat                5.1.3\n",
      "nest-asyncio            1.5.1\n",
      "networkx                2.7\n",
      "notebook                6.4.0\n",
      "numpy                   1.19.5\n",
      "oauthlib                3.1.1\n",
      "opencv-python           3.4.15.55\n",
      "opt-einsum              3.3.0\n",
      "packaging               21.0\n",
      "pandas                  1.3.3\n",
      "pandocfilters           1.4.3\n",
      "parso                   0.8.2\n",
      "pathspec                0.9.0\n",
      "pexpect                 4.8.0\n",
      "pickleshare             0.7.5\n",
      "Pillow                  8.4.0\n",
      "pip                     22.0.3\n",
      "platformdirs            2.3.0\n",
      "proglog                 0.1.9\n",
      "prometheus-client       0.11.0\n",
      "prompt-toolkit          3.0.19\n",
      "protobuf                3.18.1\n",
      "psutil                  5.8.0\n",
      "ptyprocess              0.7.0\n",
      "pyasn1                  0.4.8\n",
      "pyasn1-modules          0.2.8\n",
      "pycodestyle             2.8.0\n",
      "pycparser               2.20\n",
      "pyflakes                2.4.0\n",
      "pyglet                  1.5.21\n",
      "Pygments                2.9.0\n",
      "pylint                  2.11.1\n",
      "pyparsing               2.4.7\n",
      "pyrsistent              0.18.0\n",
      "python-dateutil         2.8.2\n",
      "pytz                    2021.1\n",
      "PyWavelets              1.2.0\n",
      "PyYAML                  6.0\n",
      "pyzmq                   22.2.1\n",
      "qtconsole               5.1.1\n",
      "QtPy                    1.9.0\n",
      "ray                     1.10.0\n",
      "redis                   4.1.4\n",
      "regex                   2021.8.28\n",
      "requests                2.26.0\n",
      "requests-oauthlib       1.3.0\n",
      "rsa                     4.7.2\n",
      "scikit-image            0.19.2\n",
      "scipy                   1.7.1\n",
      "Send2Trash              1.7.1\n",
      "setuptools              56.0.0\n",
      "six                     1.15.0\n",
      "stable-baselines        2.10.2\n",
      "stable-baselines3       1.2.0\n",
      "SuperSuit               3.3.2\n",
      "tabulate                0.8.9\n",
      "tensorboard             2.7.0\n",
      "tensorboard-data-server 0.6.1\n",
      "tensorboard-plugin-wit  1.8.0\n",
      "tensorboardX            2.5\n",
      "tensorflow-estimator    2.6.0\n",
      "termcolor               1.1.0\n",
      "terminado               0.10.1\n",
      "testpath                0.5.0\n",
      "tifffile                2022.2.9\n",
      "toml                    0.10.2\n",
      "tomli                   1.2.1\n",
      "torch                   1.10.0\n",
      "torch-tb-profiler       0.2.1\n",
      "torchvision             0.11.1\n",
      "tornado                 6.1\n",
      "tqdm                    4.62.2\n",
      "traitlets               5.0.5\n",
      "typing_extensions       4.0.1\n",
      "urllib3                 1.26.7\n",
      "wcwidth                 0.2.5\n",
      "webencodings            0.5.1\n",
      "Werkzeug                2.0.2\n",
      "wheel                   0.37.0\n",
      "widgetsnbextension      3.5.1\n",
      "wrapt                   1.12.1\n",
      "zipp                    3.6.0\n"
     ]
    }
   ],
   "source": [
    "!pip list"
   ]
  }
 ],
 "metadata": {
  "kernelspec": {
   "display_name": "Python 3 (ipykernel)",
   "language": "python",
   "name": "python3"
  },
  "language_info": {
   "codemirror_mode": {
    "name": "ipython",
    "version": 3
   },
   "file_extension": ".py",
   "mimetype": "text/x-python",
   "name": "python",
   "nbconvert_exporter": "python",
   "pygments_lexer": "ipython3",
   "version": "3.9.6"
  }
 },
 "nbformat": 4,
 "nbformat_minor": 5
}
