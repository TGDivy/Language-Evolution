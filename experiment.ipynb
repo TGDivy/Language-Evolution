{
 "cells": [
  {
   "cell_type": "code",
   "execution_count": 1,
   "source": [
    "import numpy as np\n",
    "from pettingzoo.mpe import simple_reference_v2\n",
    "import gym"
   ],
   "outputs": [],
   "metadata": {}
  },
  {
   "cell_type": "code",
   "execution_count": 2,
   "source": [
    "game = simple_reference_v2.parallel_env()\n"
   ],
   "outputs": [],
   "metadata": {}
  },
  {
   "cell_type": "code",
   "execution_count": 3,
   "source": [
    "game.action_spaces"
   ],
   "outputs": [
    {
     "output_type": "execute_result",
     "data": {
      "text/plain": [
       "{'agent_0': Discrete(50), 'agent_1': Discrete(50)}"
      ]
     },
     "metadata": {},
     "execution_count": 3
    }
   ],
   "metadata": {}
  },
  {
   "cell_type": "code",
   "execution_count": 7,
   "source": [
    "game.observation_spaces"
   ],
   "outputs": [
    {
     "output_type": "execute_result",
     "data": {
      "text/plain": [
       "{'agent_0': Box([-inf -inf -inf -inf -inf -inf -inf -inf -inf -inf -inf -inf -inf -inf\n",
       "  -inf -inf -inf -inf -inf -inf -inf], [inf inf inf inf inf inf inf inf inf inf inf inf inf inf inf inf inf inf\n",
       "  inf inf inf], (21,), float32),\n",
       " 'agent_1': Box([-inf -inf -inf -inf -inf -inf -inf -inf -inf -inf -inf -inf -inf -inf\n",
       "  -inf -inf -inf -inf -inf -inf -inf], [inf inf inf inf inf inf inf inf inf inf inf inf inf inf inf inf inf inf\n",
       "  inf inf inf], (21,), float32)}"
      ]
     },
     "metadata": {},
     "execution_count": 7
    }
   ],
   "metadata": {}
  },
  {
   "cell_type": "code",
   "execution_count": 8,
   "source": [
    "obs = game.reset()\n",
    "game.render()"
   ],
   "outputs": [],
   "metadata": {}
  },
  {
   "cell_type": "code",
   "execution_count": 9,
   "source": [
    "obs"
   ],
   "outputs": [
    {
     "output_type": "execute_result",
     "data": {
      "text/plain": [
       "{'agent_0': array([ 0.        ,  0.        , -0.6740132 ,  1.8861794 , -1.6596727 ,\n",
       "         1.4227722 , -0.45970765,  0.17902617,  0.25      ,  0.75      ,\n",
       "         0.25      ,  0.        ,  0.        ,  0.        ,  0.        ,\n",
       "         0.        ,  0.        ,  0.        ,  0.        ,  0.        ,\n",
       "         0.        ], dtype=float32),\n",
       " 'agent_1': array([ 0.        ,  0.        , -0.28581637,  0.21874252, -1.2714759 ,\n",
       "        -0.24466482, -0.07151084, -1.4884107 ,  0.25      ,  0.75      ,\n",
       "         0.25      ,  0.        ,  0.        ,  0.        ,  0.        ,\n",
       "         0.        ,  0.        ,  0.        ,  0.        ,  0.        ,\n",
       "         0.        ], dtype=float32)}"
      ]
     },
     "metadata": {},
     "execution_count": 9
    }
   ],
   "metadata": {}
  },
  {
   "cell_type": "code",
   "execution_count": 10,
   "source": [
    "action = {\n",
    "    \"agent_0\":0,\n",
    "    \"agent_1\":5\n",
    "}\n",
    "observations, rewards, dones, infos = game.step(action)\n",
    "game.render()"
   ],
   "outputs": [],
   "metadata": {}
  },
  {
   "cell_type": "code",
   "execution_count": 11,
   "source": [
    "observations, rewards, dones, infos"
   ],
   "outputs": [
    {
     "output_type": "execute_result",
     "data": {
      "text/plain": [
       "({'agent_0': array([ 0.        ,  0.        , -0.6740132 ,  1.8861794 , -1.6596727 ,\n",
       "          1.4227722 , -0.45970765,  0.17902617,  0.25      ,  0.75      ,\n",
       "          0.25      ,  0.        ,  1.        ,  0.        ,  0.        ,\n",
       "          0.        ,  0.        ,  0.        ,  0.        ,  0.        ,\n",
       "          0.        ], dtype=float32),\n",
       "  'agent_1': array([ 0.        ,  0.        , -0.28581637,  0.21874252, -1.2714759 ,\n",
       "         -0.24466482, -0.07151084, -1.4884107 ,  0.25      ,  0.75      ,\n",
       "          0.25      ,  1.        ,  0.        ,  0.        ,  0.        ,\n",
       "          0.        ,  0.        ,  0.        ,  0.        ,  0.        ,\n",
       "          0.        ], dtype=float32)},\n",
       " {'agent_0': -1.5176127270407793, 'agent_1': -1.9632344425755817},\n",
       " {'agent_0': False, 'agent_1': False},\n",
       " {'agent_0': {}, 'agent_1': {}})"
      ]
     },
     "metadata": {},
     "execution_count": 11
    }
   ],
   "metadata": {}
  },
  {
   "cell_type": "code",
   "execution_count": 59,
   "source": [
    "action_speech = np.array([0]*10)\n",
    "action_move = np.array([0]*50)\n",
    "action_move[0]=1\n"
   ],
   "outputs": [],
   "metadata": {}
  },
  {
   "cell_type": "code",
   "execution_count": 64,
   "source": [
    "game.action_spaces\n"
   ],
   "outputs": [],
   "metadata": {}
  },
  {
   "cell_type": "code",
   "execution_count": 144,
   "source": [
    "game.close()"
   ],
   "outputs": [],
   "metadata": {}
  },
  {
   "cell_type": "code",
   "execution_count": null,
   "source": [],
   "outputs": [],
   "metadata": {}
  }
 ],
 "metadata": {
  "orig_nbformat": 4,
  "language_info": {
   "name": "python",
   "version": "3.9.6",
   "mimetype": "text/x-python",
   "codemirror_mode": {
    "name": "ipython",
    "version": 3
   },
   "pygments_lexer": "ipython3",
   "nbconvert_exporter": "python",
   "file_extension": ".py"
  },
  "kernelspec": {
   "name": "python3",
   "display_name": "Python 3.9.6 64-bit ('language_evolution': pyenv)"
  },
  "interpreter": {
   "hash": "c6e2978812bdb4ee568e880e2bbef9051c85c14aca778e084962a3c207efb436"
  }
 },
 "nbformat": 4,
 "nbformat_minor": 2
}