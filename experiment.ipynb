{
 "cells": [
  {
   "cell_type": "code",
   "execution_count": 1,
   "source": [
    "import numpy as np\n",
    "from pettingzoo.mpe import reference\n",
    "import gym"
   ],
   "outputs": [],
   "metadata": {}
  },
  {
   "cell_type": "code",
   "execution_count": 2,
   "source": [
    "game = reference.parallel_env()"
   ],
   "outputs": [
    {
     "output_type": "stream",
     "name": "stderr",
     "text": [
      "/home/tgdivy/Desktop/needing_to_communicate/petting_zoo_mpe/pettingzoo/utils/wrappers/base.py:59: UserWarning: The `action_spaces` dictionary is deprecated. Use the `action_space` function instead.\n",
      "  warnings.warn(\"The `action_spaces` dictionary is deprecated. Use the `action_space` function instead.\")\n",
      "/home/tgdivy/Desktop/needing_to_communicate/petting_zoo_mpe/pettingzoo/utils/wrappers/base.py:51: UserWarning: The `observation_spaces` dictionary is deprecated. Use the `observation_space` function instead.\n",
      "  warnings.warn(\"The `observation_spaces` dictionary is deprecated. Use the `observation_space` function instead.\")\n"
     ]
    }
   ],
   "metadata": {}
  },
  {
   "cell_type": "code",
   "execution_count": 3,
   "source": [
    "game.action_spaces"
   ],
   "outputs": [
    {
     "output_type": "stream",
     "name": "stderr",
     "text": [
      "/home/tgdivy/Desktop/needing_to_communicate/petting_zoo_mpe/pettingzoo/utils/conversions.py:69: UserWarning: The `action_spaces` dictionary is deprecated. Use the `action_space` function instead.\n",
      "  warnings.warn(\"The `action_spaces` dictionary is deprecated. Use the `action_space` function instead.\")\n"
     ]
    },
    {
     "output_type": "execute_result",
     "data": {
      "text/plain": [
       "{'agent_0': Discrete(50), 'agent_1': Discrete(50)}"
      ]
     },
     "metadata": {},
     "execution_count": 3
    }
   ],
   "metadata": {}
  },
  {
   "cell_type": "code",
   "execution_count": 4,
   "source": [
    "game.observation_spaces"
   ],
   "outputs": [
    {
     "output_type": "stream",
     "name": "stderr",
     "text": [
      "/home/tgdivy/Desktop/needing_to_communicate/petting_zoo_mpe/pettingzoo/utils/conversions.py:61: UserWarning: The `observation_spaces` dictionary is deprecated. Use the `observation_space` function instead.\n",
      "  warnings.warn(\"The `observation_spaces` dictionary is deprecated. Use the `observation_space` function instead.\")\n"
     ]
    },
    {
     "output_type": "execute_result",
     "data": {
      "text/plain": [
       "{'agent_0': Box([-inf -inf -inf -inf], [inf inf inf inf], (4,), float32),\n",
       " 'agent_1': Box([-inf -inf -inf -inf], [inf inf inf inf], (4,), float32)}"
      ]
     },
     "metadata": {},
     "execution_count": 4
    }
   ],
   "metadata": {}
  },
  {
   "cell_type": "code",
   "execution_count": 5,
   "source": [
    "obs = game.reset()\n",
    "game.render()"
   ],
   "outputs": [],
   "metadata": {}
  },
  {
   "cell_type": "code",
   "execution_count": 6,
   "source": [
    "obs"
   ],
   "outputs": [
    {
     "output_type": "execute_result",
     "data": {
      "text/plain": [
       "{'agent_0': {'current_velocity': array([0., 0.]),\n",
       "  'landmarks': array([ 0.0558203 , -0.06964653,  0.75      ,  0.25      ,  0.25      ,\n",
       "         -0.08780048, -0.60941116,  0.25      ,  0.75      ,  0.25      ,\n",
       "          0.27073681, -1.57730423,  0.25      ,  0.25      ,  0.75      ]),\n",
       "  'goal': array([0.25, 0.75, 0.25]),\n",
       "  'communication': array([0., 0., 0., 0., 0., 0., 0., 0., 0., 0.])},\n",
       " 'agent_1': {'current_velocity': array([0., 0.]),\n",
       "  'landmarks': array([ 0.981962  ,  0.75579067,  0.75      ,  0.25      ,  0.25      ,\n",
       "          0.83834123,  0.21602604,  0.25      ,  0.75      ,  0.25      ,\n",
       "          1.19687851, -0.75186703,  0.25      ,  0.25      ,  0.75      ]),\n",
       "  'goal': array([0.25, 0.25, 0.75]),\n",
       "  'communication': array([0., 0., 0., 0., 0., 0., 0., 0., 0., 0.])}}"
      ]
     },
     "metadata": {},
     "execution_count": 6
    }
   ],
   "metadata": {}
  },
  {
   "cell_type": "code",
   "execution_count": 11,
   "source": [
    "action = {\n",
    "    \"agent_0\":0,\n",
    "    \"agent_1\":17,\n",
    "}\n",
    "observations, rewards, dones, infos = game.step(action)\n",
    "game.render()\n",
    "observations"
   ],
   "outputs": [
    {
     "output_type": "execute_result",
     "data": {
      "text/plain": [
       "{'agent_0': {'current_velocity': array([0., 0.]),\n",
       "  'landmarks': array([ 0.0558203 , -0.06964653,  0.75      ,  0.25      ,  0.25      ,\n",
       "         -0.08780048, -0.60941116,  0.25      ,  0.75      ,  0.25      ,\n",
       "          0.27073681, -1.57730423,  0.25      ,  0.25      ,  0.75      ]),\n",
       "  'goal': array([0.25, 0.75, 0.25]),\n",
       "  'communication': array([0., 0., 0., 1., 0., 0., 0., 0., 0., 0.])},\n",
       " 'agent_1': {'current_velocity': array([1.52539062, 0.        ]),\n",
       "  'landmarks': array([ 0.43957919,  0.75579067,  0.75      ,  0.25      ,  0.25      ,\n",
       "          0.29595841,  0.21602604,  0.25      ,  0.75      ,  0.25      ,\n",
       "          0.6544957 , -0.75186703,  0.25      ,  0.25      ,  0.75      ]),\n",
       "  'goal': array([0.25, 0.25, 0.75]),\n",
       "  'communication': array([1., 0., 0., 0., 0., 0., 0., 0., 0., 0.])}}"
      ]
     },
     "metadata": {},
     "execution_count": 11
    }
   ],
   "metadata": {}
  },
  {
   "cell_type": "code",
   "execution_count": 8,
   "source": [
    "action_speech = np.array([0]*10)\n",
    "action_move = np.array([0]*50)\n",
    "action_move[0]=1\n"
   ],
   "outputs": [],
   "metadata": {}
  },
  {
   "cell_type": "code",
   "execution_count": 64,
   "source": [
    "game.action_spaces\n"
   ],
   "outputs": [],
   "metadata": {}
  },
  {
   "cell_type": "code",
   "execution_count": 144,
   "source": [
    "game.close()"
   ],
   "outputs": [],
   "metadata": {}
  },
  {
   "cell_type": "code",
   "execution_count": null,
   "source": [],
   "outputs": [],
   "metadata": {}
  }
 ],
 "metadata": {
  "orig_nbformat": 4,
  "language_info": {
   "name": "python",
   "version": "3.9.6",
   "mimetype": "text/x-python",
   "codemirror_mode": {
    "name": "ipython",
    "version": 3
   },
   "pygments_lexer": "ipython3",
   "nbconvert_exporter": "python",
   "file_extension": ".py"
  },
  "kernelspec": {
   "name": "python3",
   "display_name": "Python 3.9.6 64-bit ('language_evolution': pyenv)"
  },
  "interpreter": {
   "hash": "c6e2978812bdb4ee568e880e2bbef9051c85c14aca778e084962a3c207efb436"
  }
 },
 "nbformat": 4,
 "nbformat_minor": 2
}