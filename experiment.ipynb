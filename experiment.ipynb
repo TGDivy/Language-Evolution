{
 "cells": [
  {
   "cell_type": "code",
   "execution_count": 2,
   "source": [
    "from pettingzoo.mpe import simple_reference_v2, simple_reference_v0, simple_reference_v1"
   ],
   "outputs": [],
   "metadata": {}
  },
  {
   "cell_type": "code",
   "execution_count": null,
   "source": [],
   "outputs": [],
   "metadata": {}
  }
 ],
 "metadata": {
  "orig_nbformat": 4,
  "language_info": {
   "name": "python",
   "version": "3.9.6",
   "mimetype": "text/x-python",
   "codemirror_mode": {
    "name": "ipython",
    "version": 3
   },
   "pygments_lexer": "ipython3",
   "nbconvert_exporter": "python",
   "file_extension": ".py"
  },
  "kernelspec": {
   "name": "python3",
   "display_name": "Python 3.9.6 64-bit ('language_evolution': pyenv)"
  },
  "interpreter": {
   "hash": "c6e2978812bdb4ee568e880e2bbef9051c85c14aca778e084962a3c207efb436"
  }
 },
 "nbformat": 4,
 "nbformat_minor": 2
}