{
 "cells": [
  {
   "cell_type": "code",
   "execution_count": 146,
   "source": [
    "import numpy as np\n",
    "from pettingzoo.mpe import simple_reference_v2\n",
    "import gym"
   ],
   "outputs": [],
   "metadata": {}
  },
  {
   "cell_type": "code",
   "execution_count": null,
   "source": [],
   "outputs": [],
   "metadata": {}
  },
  {
   "cell_type": "code",
   "execution_count": 147,
   "source": [
    "game = simple_reference_v2.parallel_env()\n"
   ],
   "outputs": [],
   "metadata": {}
  },
  {
   "cell_type": "code",
   "execution_count": 148,
   "source": [
    "game.action_spaces"
   ],
   "outputs": [
    {
     "output_type": "execute_result",
     "data": {
      "text/plain": [
       "{'agent_0': Discrete(50), 'agent_1': Discrete(50)}"
      ]
     },
     "metadata": {},
     "execution_count": 148
    }
   ],
   "metadata": {}
  },
  {
   "cell_type": "code",
   "execution_count": 126,
   "source": [
    "game.reset()\n",
    "game.render()"
   ],
   "outputs": [],
   "metadata": {}
  },
  {
   "cell_type": "code",
   "execution_count": 143,
   "source": [
    "action = {\n",
    "    \"agent_0\":0,\n",
    "    \"agent_1\":5\n",
    "}\n",
    "game.step(action)\n",
    "game.render()"
   ],
   "outputs": [],
   "metadata": {}
  },
  {
   "cell_type": "code",
   "execution_count": 59,
   "source": [
    "action_speech = np.array([0]*10)\n",
    "action_move = np.array([0]*50)\n",
    "action_move[0]=1\n"
   ],
   "outputs": [],
   "metadata": {}
  },
  {
   "cell_type": "code",
   "execution_count": 64,
   "source": [
    "game.action_spaces\n"
   ],
   "outputs": [],
   "metadata": {}
  },
  {
   "cell_type": "code",
   "execution_count": 144,
   "source": [
    "game.close()"
   ],
   "outputs": [],
   "metadata": {}
  },
  {
   "cell_type": "code",
   "execution_count": null,
   "source": [],
   "outputs": [],
   "metadata": {}
  }
 ],
 "metadata": {
  "orig_nbformat": 4,
  "language_info": {
   "name": "python",
   "version": "3.9.6",
   "mimetype": "text/x-python",
   "codemirror_mode": {
    "name": "ipython",
    "version": 3
   },
   "pygments_lexer": "ipython3",
   "nbconvert_exporter": "python",
   "file_extension": ".py"
  },
  "kernelspec": {
   "name": "python3",
   "display_name": "Python 3.9.6 64-bit ('language_evolution': pyenv)"
  },
  "interpreter": {
   "hash": "c6e2978812bdb4ee568e880e2bbef9051c85c14aca778e084962a3c207efb436"
  }
 },
 "nbformat": 4,
 "nbformat_minor": 2
}